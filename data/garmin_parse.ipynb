{
 "metadata": {
  "language_info": {
   "codemirror_mode": {
    "name": "ipython",
    "version": 3
   },
   "file_extension": ".py",
   "mimetype": "text/x-python",
   "name": "python",
   "nbconvert_exporter": "python",
   "pygments_lexer": "ipython3",
   "version": "3.6.12-final"
  },
  "orig_nbformat": 2,
  "kernelspec": {
   "name": "Python 3.6.12 64-bit ('PythonData': conda)",
   "display_name": "Python 3.6.12 64-bit ('PythonData': conda)",
   "metadata": {
    "interpreter": {
     "hash": "943f6600637289831978344a9b049ae9e193891ed2d76564bda6cf1199d10a3d"
    }
   }
  }
 },
 "nbformat": 4,
 "nbformat_minor": 2,
 "cells": [
  {
   "cell_type": "code",
   "execution_count": null,
   "metadata": {},
   "outputs": [],
   "source": [
    "# Import dependencies\n",
    "from lxml import etree as ET, objectify\n",
    "from os import listdir\n",
    "from os.path import isfile, join, dirname\n",
    "import pandas as pd\n",
    "from collections import OrderedDict\n",
    "from datetime import date\n",
    "import json\n",
    "from glob import glob\n",
    "import fnmatch\n",
    "from pathlib import Path"
   ]
  },
  {
   "cell_type": "code",
   "execution_count": null,
   "metadata": {},
   "outputs": [],
   "source": [
    "data = pd.read_json(\"C:/Users/bbahaneb/Documents/DU Data Bootcamp/Digital-Workout-Tracker/data/json/activities.json\")\n",
    "activities_df = pd.DataFrame(data)"
   ]
  },
  {
   "cell_type": "code",
   "execution_count": null,
   "metadata": {
    "tags": []
   },
   "outputs": [],
   "source": [
    "# activity_files = print([f for f in listdir(\"C:/Users/bbahaneb/Documents/DU Data Bootcamp/Digital-Workout-Tracker/data/tcx\") if fnmatch.fnmatch(f, '*.tcx')])"
   ]
  },
  {
   "cell_type": "code",
   "execution_count": null,
   "metadata": {},
   "outputs": [],
   "source": [
    "# activities_df.insert(2, \"fileName\", activity_files)\n",
    "# activities_df.head(10)"
   ]
  },
  {
   "cell_type": "code",
   "execution_count": null,
   "metadata": {},
   "outputs": [],
   "source": [
    "filepath = \"C:/Users/bbahaneb/Documents/DU Data Bootcamp/Digital-Workout-Tracker/data/tcx/activity_3596324_speed_work.tcx\""
   ]
  },
  {
   "cell_type": "code",
   "execution_count": null,
   "metadata": {},
   "outputs": [],
   "source": [
    "# def tcxParse(tcxFile):\n",
    "parser = ET.XMLParser(remove_blank_text=True)\n",
    "tree = ET.parse(filepath, parser)\n",
    "root = tree.getroot()\n",
    "# root.tag\n",
    "# root.attrib"
   ]
  },
  {
   "cell_type": "code",
   "execution_count": null,
   "metadata": {},
   "outputs": [],
   "source": [
    "for child in root.getiterator():\n",
    "    if not hasattr(child.tag, 'find'): continue  # (1)\n",
    "    i = child.tag.find('}')\n",
    "    if i >= 0:\n",
    "        child.tag = child.tag[i + 1:]\n",
    "objectify.deannotate(root, cleanup_namespaces=True)"
   ]
  },
  {
   "cell_type": "code",
   "execution_count": null,
   "metadata": {},
   "outputs": [],
   "source": [
    "trackpoints = [{\n",
    "    'HR': tp.findtext('HeartRateBpm/Value'),\n",
    "    'Time': tp.findtext('Time'),\n",
    "    'Speed': tp.findtext('Extensions/TPX/Speed'),\n",
    "    'Cadence': tp.findtext('Extensions/TPX/RunCadence'),\n",
    "    'Lat': tp.findtext('Position/LatitudeDegrees'),\n",
    "    'Lon': tp.findtext('Position/LongitudeDegrees'),\n",
    "    'Alt': tp.findtext('AltitudeMeters'),\n",
    "    'Distance': tp.findtext('DistanceMeters')\n",
    "    }\n",
    "for tp in tree.xpath('//Track/Trackpoint')]"
   ]
  },
  {
   "cell_type": "code",
   "execution_count": null,
   "metadata": {},
   "outputs": [],
   "source": [
    "trackpt_df = pd.DataFrame(trackpoints)\n",
    "trackpt_df"
   ]
  }
 ]
}
