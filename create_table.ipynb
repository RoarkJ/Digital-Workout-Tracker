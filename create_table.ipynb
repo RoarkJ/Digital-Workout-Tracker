{
 "cells": [
  {
   "cell_type": "code",
   "execution_count": 5,
   "metadata": {},
   "outputs": [],
   "source": [
    "# Import SQL Alchemy\n",
    "from sqlalchemy import create_engine"
   ]
  },
  {
   "cell_type": "code",
   "execution_count": 6,
   "metadata": {},
   "outputs": [],
   "source": [
    "# Import and establish Base for which classes will be constructed \n",
    "from sqlalchemy.ext.declarative import declarative_base\n",
    "# This is the base class that will keep a catalogue of our classes and tables relative to the base\n",
    "# there is usually only on base class for an application.\n",
    "Base = declarative_base()"
   ]
  },
  {
   "cell_type": "code",
   "execution_count": 7,
   "metadata": {},
   "outputs": [],
   "source": [
    "# Import modules to declare columns and column data types\n",
    "from sqlalchemy import Column, Integer, String, Float\n",
    "from sqlalchemy.orm import relationship\n",
    "from sqlalchemy.schema import ForeignKey"
   ]
  },
  {
   "cell_type": "code",
   "execution_count": 8,
   "metadata": {},
   "outputs": [],
   "source": [
    "# Create Activities and Trackpoint Data Classes\n",
    "class Activities(Base):\n",
    "    __tablename__ = 'activities'\n",
    "    act_id = Column(Integer, primary_key=True)\n",
    "    act_type = Column(String(255))\n",
    "    act_duration = Column(Integer)\n",
    "    act_tot_distance = Column(Integer)\n",
    "    act_max_speed = Column(Integer)\n",
    "    act_avg_hrt_rate = Column(Integer)\n",
    "    act_max_hrt_rate = Column(Integer)\n",
    "    act_calories = Column(Integer)\n",
    "    \n",
    "class Track_Data_Points(Base):\n",
    "    __tablename__ = 'track_data_points'\n",
    "    tr_id = Column(Integer, primary_key=True)\n",
    "    act_id = Column(Integer, ForeignKey(\"activities.act_id\"))\n",
    "    tr_time = Column(String(255))\n",
    "    tr_latitude = Column(Float)\n",
    "    tr_longtitude = Column(Float)\n",
    "    tr_hrt_rate = Column(Integer)\n",
    "    tr_speed = Column(Integer)\n",
    "    tr_altitude = Column(Integer)\n",
    "    tr_distance = Column(Integer)\n",
    "    \n",
    "    \n",
    "    "
   ]
  },
  {
   "cell_type": "code",
   "execution_count": null,
   "metadata": {},
   "outputs": [],
   "source": [
    "# Create specific instances of the Activities and Track_Data_Points classes\n",
    "activity = Activities(act_type=\"Grand Junction Cycling\",\n",
    "            act_duration=9028.3369140625,\n",
    "            act_tot_distance=67872.90625,\n",
    "            \n",
    "            "
   ]
  },
  {
   "cell_type": "code",
   "execution_count": null,
   "metadata": {},
   "outputs": [],
   "source": []
  }
 ],
 "metadata": {
  "kernelspec": {
   "display_name": "Python 3",
   "language": "python",
   "name": "python3"
  },
  "language_info": {
   "codemirror_mode": {
    "name": "ipython",
    "version": 3
   },
   "file_extension": ".py",
   "mimetype": "text/x-python",
   "name": "python",
   "nbconvert_exporter": "python",
   "pygments_lexer": "ipython3",
   "version": "3.7.6"
  }
 },
 "nbformat": 4,
 "nbformat_minor": 4
}
